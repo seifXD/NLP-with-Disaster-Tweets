{
 "cells": [
  {
   "cell_type": "code",
   "execution_count": 1,
   "id": "f2a5d406",
   "metadata": {
    "_cell_guid": "b1076dfc-b9ad-4769-8c92-a6c4dae69d19",
    "_uuid": "8f2839f25d086af736a60e9eeb907d3b93b6e0e5",
    "execution": {
     "iopub.execute_input": "2024-11-07T00:48:04.683542Z",
     "iopub.status.busy": "2024-11-07T00:48:04.683203Z",
     "iopub.status.idle": "2024-11-07T00:48:20.140434Z",
     "shell.execute_reply": "2024-11-07T00:48:20.139245Z"
    },
    "papermill": {
     "duration": 15.467047,
     "end_time": "2024-11-07T00:48:20.142695",
     "exception": false,
     "start_time": "2024-11-07T00:48:04.675648",
     "status": "completed"
    },
    "tags": []
   },
   "outputs": [
    {
     "name": "stdout",
     "output_type": "stream",
     "text": [
      "Using TensorFlow backend\n",
      "/kaggle/input/distil_bert/keras/distil_bert_base_en_uncased/2/config.json\n",
      "/kaggle/input/distil_bert/keras/distil_bert_base_en_uncased/2/tokenizer.json\n",
      "/kaggle/input/distil_bert/keras/distil_bert_base_en_uncased/2/metadata.json\n",
      "/kaggle/input/distil_bert/keras/distil_bert_base_en_uncased/2/model.weights.h5\n",
      "/kaggle/input/distil_bert/keras/distil_bert_base_en_uncased/2/assets/tokenizer/vocabulary.txt\n",
      "/kaggle/input/nlp-getting-started/sample_submission.csv\n",
      "/kaggle/input/nlp-getting-started/train.csv\n",
      "/kaggle/input/nlp-getting-started/test.csv\n"
     ]
    }
   ],
   "source": [
    "# This Python 3 environment comes with many helpful analytics libraries installed\n",
    "# It is defined by the kaggle/python Docker image: https://github.com/kaggle/docker-python\n",
    "# For example, here's several helpful packages to load\n",
    "\n",
    "import numpy as np # linear algebra\n",
    "import pandas as pd # data processing, CSV file I/O (e.g. pd.read_csv)\n",
    "import tensorflow as tf\n",
    "import keras_core as keras\n",
    "import keras_nlp\n",
    "from sklearn.metrics import ConfusionMatrixDisplay, confusion_matrix\n",
    "from sklearn.model_selection import train_test_split\n",
    "from sklearn import feature_extraction\n",
    "import seaborn as sns\n",
    "import matplotlib.pyplot as plt\n",
    "\n",
    "# Input data files are available in the read-only \"../input/\" directory\n",
    "# For example, running this (by clicking run or pressing Shift+Enter) will list all files under the input directory\n",
    "\n",
    "import os\n",
    "for dirname, _, filenames in os.walk('/kaggle/input'):\n",
    "    for filename in filenames:\n",
    "        print(os.path.join(dirname, filename))\n",
    "\n",
    "# You can write up to 20GB to the current directory (/kaggle/working/) that gets preserved as output when you create a version using \"Save & Run All\" \n",
    "# You can also write temporary files to /kaggle/temp/, but they won't be saved outside of the current session"
   ]
  },
  {
   "cell_type": "code",
   "execution_count": 2,
   "id": "4de83137",
   "metadata": {
    "execution": {
     "iopub.execute_input": "2024-11-07T00:48:20.156305Z",
     "iopub.status.busy": "2024-11-07T00:48:20.155653Z",
     "iopub.status.idle": "2024-11-07T00:48:20.216618Z",
     "shell.execute_reply": "2024-11-07T00:48:20.215798Z"
    },
    "papermill": {
     "duration": 0.070227,
     "end_time": "2024-11-07T00:48:20.218923",
     "exception": false,
     "start_time": "2024-11-07T00:48:20.148696",
     "status": "completed"
    },
    "tags": []
   },
   "outputs": [],
   "source": [
    "Train_df = pd.read_csv(\"/kaggle/input/nlp-getting-started/train.csv\")\n",
    "Test_df = pd.read_csv(\"/kaggle/input/nlp-getting-started/test.csv\")"
   ]
  },
  {
   "cell_type": "code",
   "execution_count": 3,
   "id": "a388a4fe",
   "metadata": {
    "execution": {
     "iopub.execute_input": "2024-11-07T00:48:20.231203Z",
     "iopub.status.busy": "2024-11-07T00:48:20.230856Z",
     "iopub.status.idle": "2024-11-07T00:48:20.248941Z",
     "shell.execute_reply": "2024-11-07T00:48:20.248074Z"
    },
    "papermill": {
     "duration": 0.026379,
     "end_time": "2024-11-07T00:48:20.250932",
     "exception": false,
     "start_time": "2024-11-07T00:48:20.224553",
     "status": "completed"
    },
    "tags": []
   },
   "outputs": [
    {
     "data": {
      "text/html": [
       "<div>\n",
       "<style scoped>\n",
       "    .dataframe tbody tr th:only-of-type {\n",
       "        vertical-align: middle;\n",
       "    }\n",
       "\n",
       "    .dataframe tbody tr th {\n",
       "        vertical-align: top;\n",
       "    }\n",
       "\n",
       "    .dataframe thead th {\n",
       "        text-align: right;\n",
       "    }\n",
       "</style>\n",
       "<table border=\"1\" class=\"dataframe\">\n",
       "  <thead>\n",
       "    <tr style=\"text-align: right;\">\n",
       "      <th></th>\n",
       "      <th>id</th>\n",
       "      <th>keyword</th>\n",
       "      <th>location</th>\n",
       "      <th>text</th>\n",
       "      <th>target</th>\n",
       "    </tr>\n",
       "  </thead>\n",
       "  <tbody>\n",
       "    <tr>\n",
       "      <th>0</th>\n",
       "      <td>1</td>\n",
       "      <td>NaN</td>\n",
       "      <td>NaN</td>\n",
       "      <td>Our Deeds are the Reason of this #earthquake M...</td>\n",
       "      <td>1</td>\n",
       "    </tr>\n",
       "    <tr>\n",
       "      <th>1</th>\n",
       "      <td>4</td>\n",
       "      <td>NaN</td>\n",
       "      <td>NaN</td>\n",
       "      <td>Forest fire near La Ronge Sask. Canada</td>\n",
       "      <td>1</td>\n",
       "    </tr>\n",
       "    <tr>\n",
       "      <th>2</th>\n",
       "      <td>5</td>\n",
       "      <td>NaN</td>\n",
       "      <td>NaN</td>\n",
       "      <td>All residents asked to 'shelter in place' are ...</td>\n",
       "      <td>1</td>\n",
       "    </tr>\n",
       "    <tr>\n",
       "      <th>3</th>\n",
       "      <td>6</td>\n",
       "      <td>NaN</td>\n",
       "      <td>NaN</td>\n",
       "      <td>13,000 people receive #wildfires evacuation or...</td>\n",
       "      <td>1</td>\n",
       "    </tr>\n",
       "    <tr>\n",
       "      <th>4</th>\n",
       "      <td>7</td>\n",
       "      <td>NaN</td>\n",
       "      <td>NaN</td>\n",
       "      <td>Just got sent this photo from Ruby #Alaska as ...</td>\n",
       "      <td>1</td>\n",
       "    </tr>\n",
       "  </tbody>\n",
       "</table>\n",
       "</div>"
      ],
      "text/plain": [
       "   id keyword location                                               text  \\\n",
       "0   1     NaN      NaN  Our Deeds are the Reason of this #earthquake M...   \n",
       "1   4     NaN      NaN             Forest fire near La Ronge Sask. Canada   \n",
       "2   5     NaN      NaN  All residents asked to 'shelter in place' are ...   \n",
       "3   6     NaN      NaN  13,000 people receive #wildfires evacuation or...   \n",
       "4   7     NaN      NaN  Just got sent this photo from Ruby #Alaska as ...   \n",
       "\n",
       "   target  \n",
       "0       1  \n",
       "1       1  \n",
       "2       1  \n",
       "3       1  \n",
       "4       1  "
      ]
     },
     "execution_count": 3,
     "metadata": {},
     "output_type": "execute_result"
    }
   ],
   "source": [
    "Train_df.head()"
   ]
  },
  {
   "cell_type": "code",
   "execution_count": 4,
   "id": "3a89c66d",
   "metadata": {
    "execution": {
     "iopub.execute_input": "2024-11-07T00:48:20.264662Z",
     "iopub.status.busy": "2024-11-07T00:48:20.264366Z",
     "iopub.status.idle": "2024-11-07T00:48:20.273779Z",
     "shell.execute_reply": "2024-11-07T00:48:20.272869Z"
    },
    "papermill": {
     "duration": 0.019404,
     "end_time": "2024-11-07T00:48:20.275976",
     "exception": false,
     "start_time": "2024-11-07T00:48:20.256572",
     "status": "completed"
    },
    "tags": []
   },
   "outputs": [
    {
     "data": {
      "text/plain": [
       "\"What's up man?\""
      ]
     },
     "execution_count": 4,
     "metadata": {},
     "output_type": "execute_result"
    }
   ],
   "source": [
    "Train_df[Train_df[\"target\"] == 0][\"text\"].values[0]\n"
   ]
  },
  {
   "cell_type": "code",
   "execution_count": 5,
   "id": "97bfb40d",
   "metadata": {
    "execution": {
     "iopub.execute_input": "2024-11-07T00:48:20.289015Z",
     "iopub.status.busy": "2024-11-07T00:48:20.288691Z",
     "iopub.status.idle": "2024-11-07T00:48:20.295490Z",
     "shell.execute_reply": "2024-11-07T00:48:20.294735Z"
    },
    "papermill": {
     "duration": 0.015512,
     "end_time": "2024-11-07T00:48:20.297394",
     "exception": false,
     "start_time": "2024-11-07T00:48:20.281882",
     "status": "completed"
    },
    "tags": []
   },
   "outputs": [
    {
     "data": {
      "text/plain": [
       "'Our Deeds are the Reason of this #earthquake May ALLAH Forgive us all'"
      ]
     },
     "execution_count": 5,
     "metadata": {},
     "output_type": "execute_result"
    }
   ],
   "source": [
    "Train_df[Train_df[\"target\"] == 1][\"text\"].values[0]\n"
   ]
  },
  {
   "cell_type": "code",
   "execution_count": 6,
   "id": "cc5314a1",
   "metadata": {
    "execution": {
     "iopub.execute_input": "2024-11-07T00:48:20.309973Z",
     "iopub.status.busy": "2024-11-07T00:48:20.309692Z",
     "iopub.status.idle": "2024-11-07T00:48:20.325843Z",
     "shell.execute_reply": "2024-11-07T00:48:20.324645Z"
    },
    "papermill": {
     "duration": 0.024657,
     "end_time": "2024-11-07T00:48:20.327859",
     "exception": false,
     "start_time": "2024-11-07T00:48:20.303202",
     "status": "completed"
    },
    "tags": []
   },
   "outputs": [
    {
     "name": "stdout",
     "output_type": "stream",
     "text": [
      "(1, 54)\n",
      "[[0 0 0 1 1 1 0 0 0 0 0 0 1 1 0 0 0 0 1 0 0 0 0 0 0 1 0 0 0 1 0 0 0 0 1 0\n",
      "  0 0 0 1 0 0 0 0 0 0 0 0 0 1 1 0 1 0]]\n"
     ]
    }
   ],
   "source": [
    "count_vectorizer = feature_extraction.text.CountVectorizer()\n",
    "\n",
    "## let's get counts for the first 5 tweets in the data\n",
    "example_train_vectors = count_vectorizer.fit_transform(Train_df[\"text\"][0:5])\n",
    "\n",
    "## we use .todense() here because these vectors are \"sparse\" (only non-zero elements are kept to save space)\n",
    "print(example_train_vectors[0].todense().shape)\n",
    "print(example_train_vectors[0].todense())"
   ]
  },
  {
   "cell_type": "code",
   "execution_count": 7,
   "id": "5da7ed35",
   "metadata": {
    "execution": {
     "iopub.execute_input": "2024-11-07T00:48:20.341666Z",
     "iopub.status.busy": "2024-11-07T00:48:20.341395Z",
     "iopub.status.idle": "2024-11-07T00:48:20.348908Z",
     "shell.execute_reply": "2024-11-07T00:48:20.347940Z"
    },
    "papermill": {
     "duration": 0.016787,
     "end_time": "2024-11-07T00:48:20.351195",
     "exception": false,
     "start_time": "2024-11-07T00:48:20.334408",
     "status": "completed"
    },
    "tags": []
   },
   "outputs": [
    {
     "name": "stdout",
     "output_type": "stream",
     "text": [
      "Tweet 1: Our Deeds are the Reason of this #earthquake May ALLAH Forgive us all\n",
      "Vector: [[0 0 0 1 1 1 0 0 0 0 0 0 1 1 0 0 0 0 1 0 0 0 0 0 0 1 0 0 0 1 0 0 0 0 1 0\n",
      "  0 0 0 1 0 0 0 0 0 0 0 0 0 1 1 0 1 0]]\n",
      "\n",
      "\n",
      "Tweet 2: Forest fire near La Ronge Sask. Canada\n",
      "Vector: [[0 0 0 0 0 0 0 0 0 0 0 1 0 0 0 0 1 1 0 0 0 0 0 0 1 0 1 0 0 0 0 0 0 0 0 0\n",
      "  0 0 0 0 0 0 1 0 1 0 0 0 0 0 0 0 0 0]]\n",
      "\n",
      "\n",
      "Tweet 3: All residents asked to 'shelter in place' are being notified by officers. No other evacuation or shelter in place orders are expected\n",
      "Vector: [[0 0 0 1 0 2 0 1 1 1 0 0 0 0 1 1 0 0 0 0 0 2 0 0 0 0 0 1 1 0 1 1 1 1 0 0\n",
      "  0 2 0 0 0 1 0 0 0 0 0 2 0 0 0 1 0 0]]\n",
      "\n",
      "\n",
      "Tweet 4: 13,000 people receive #wildfires evacuation orders in California \n",
      "Vector: [[1 1 0 0 0 0 0 0 0 0 1 0 0 0 1 0 0 0 0 0 0 1 0 0 0 0 0 0 0 0 0 0 1 0 0 1\n",
      "  0 0 0 0 1 0 0 0 0 0 0 0 0 0 0 0 0 1]]\n",
      "\n",
      "\n",
      "Tweet 5: Just got sent this photo from Ruby #Alaska as smoke from #wildfires pours into a school \n",
      "Vector: [[0 0 1 0 0 0 1 0 0 0 0 0 0 0 0 0 0 0 0 2 1 0 1 1 0 0 0 0 0 0 0 0 0 0 0 0\n",
      "  1 0 1 0 0 0 0 1 0 1 1 0 1 0 1 0 0 1]]\n",
      "\n",
      "\n"
     ]
    }
   ],
   "source": [
    "# Print the original tweets and their corresponding vector\n",
    "for i in range(5):  # Assuming you're looking at the first five tweets\n",
    "    print(f\"Tweet {i+1}: {Train_df['text'][i]}\")\n",
    "    print(f\"Vector: {example_train_vectors[i].todense()}\")\n",
    "    print(\"\\n\")\n"
   ]
  },
  {
   "cell_type": "code",
   "execution_count": 8,
   "id": "12c79d53",
   "metadata": {
    "execution": {
     "iopub.execute_input": "2024-11-07T00:48:20.364669Z",
     "iopub.status.busy": "2024-11-07T00:48:20.364402Z",
     "iopub.status.idle": "2024-11-07T00:48:20.385947Z",
     "shell.execute_reply": "2024-11-07T00:48:20.384956Z"
    },
    "papermill": {
     "duration": 0.030422,
     "end_time": "2024-11-07T00:48:20.387852",
     "exception": false,
     "start_time": "2024-11-07T00:48:20.357430",
     "status": "completed"
    },
    "tags": []
   },
   "outputs": [
    {
     "name": "stdout",
     "output_type": "stream",
     "text": [
      "Train Length Stat\n",
      "count    7613.000000\n",
      "mean      101.037436\n",
      "std        33.781325\n",
      "min         7.000000\n",
      "25%        78.000000\n",
      "50%       107.000000\n",
      "75%       133.000000\n",
      "max       157.000000\n",
      "Name: length, dtype: float64\n",
      "\n",
      "Test Length Stat\n",
      "count    3263.000000\n",
      "mean      102.108183\n",
      "std        33.972158\n",
      "min         5.000000\n",
      "25%        78.000000\n",
      "50%       109.000000\n",
      "75%       134.000000\n",
      "max       151.000000\n",
      "Name: length, dtype: float64\n"
     ]
    }
   ],
   "source": [
    "Train_df[\"length\"] = Train_df[\"text\"].apply(lambda x : len(x))\n",
    "Test_df[\"length\"] = Test_df[\"text\"].apply(lambda x : len(x))\n",
    "\n",
    "print(\"Train Length Stat\")\n",
    "print(Train_df[\"length\"].describe())\n",
    "print()\n",
    "\n",
    "print(\"Test Length Stat\")\n",
    "print(Test_df[\"length\"].describe())"
   ]
  },
  {
   "cell_type": "code",
   "execution_count": 9,
   "id": "66990fb7",
   "metadata": {
    "execution": {
     "iopub.execute_input": "2024-11-07T00:48:20.401067Z",
     "iopub.status.busy": "2024-11-07T00:48:20.400772Z",
     "iopub.status.idle": "2024-11-07T00:48:20.409904Z",
     "shell.execute_reply": "2024-11-07T00:48:20.409215Z"
    },
    "papermill": {
     "duration": 0.017875,
     "end_time": "2024-11-07T00:48:20.411863",
     "exception": false,
     "start_time": "2024-11-07T00:48:20.393988",
     "status": "completed"
    },
    "tags": []
   },
   "outputs": [],
   "source": [
    "\n",
    "AUTO = tf.data.experimental.AUTOTUNE\n",
    "X = Train_df[\"text\"]\n",
    "y = Train_df[\"target\"]\n",
    "\n",
    "X_train, X_val, y_train, y_val = train_test_split(X, y, test_size=0.2, random_state=42)\n",
    "\n",
    "X_test = Test_df[\"text\"]"
   ]
  },
  {
   "cell_type": "code",
   "execution_count": 10,
   "id": "231db905",
   "metadata": {
    "execution": {
     "iopub.execute_input": "2024-11-07T00:48:20.425603Z",
     "iopub.status.busy": "2024-11-07T00:48:20.424874Z",
     "iopub.status.idle": "2024-11-07T00:48:25.429051Z",
     "shell.execute_reply": "2024-11-07T00:48:25.428174Z"
    },
    "papermill": {
     "duration": 5.013145,
     "end_time": "2024-11-07T00:48:25.431102",
     "exception": false,
     "start_time": "2024-11-07T00:48:20.417957",
     "status": "completed"
    },
    "tags": []
   },
   "outputs": [
    {
     "data": {
      "text/html": [
       "<pre style=\"white-space:pre;overflow-x:auto;line-height:normal;font-family:Menlo,'DejaVu Sans Mono',consolas,'Courier New',monospace\"><span style=\"font-weight: bold\">Preprocessor: \"preprocessor_4_tweets\"</span>\n",
       "</pre>\n"
      ],
      "text/plain": [
       "\u001b[1mPreprocessor: \"preprocessor_4_tweets\"\u001b[0m\n"
      ]
     },
     "metadata": {},
     "output_type": "display_data"
    },
    {
     "data": {
      "text/html": [
       "<pre style=\"white-space:pre;overflow-x:auto;line-height:normal;font-family:Menlo,'DejaVu Sans Mono',consolas,'Courier New',monospace\">┏━━━━━━━━━━━━━━━━━━━━━━━━━━━━━━━━━━━━━━━━━━━━━━━━━━━━━━━━━━━━━━━┳━━━━━━━━━━━━━━━━━━━━━━━━━━━━━━━━━━━━━━━━━━┓\n",
       "┃<span style=\"font-weight: bold\"> Layer (type)                                                  </span>┃<span style=\"font-weight: bold\">                                   Config </span>┃\n",
       "┡━━━━━━━━━━━━━━━━━━━━━━━━━━━━━━━━━━━━━━━━━━━━━━━━━━━━━━━━━━━━━━━╇━━━━━━━━━━━━━━━━━━━━━━━━━━━━━━━━━━━━━━━━━━┩\n",
       "│ distil_bert_tokenizer (<span style=\"color: #0087ff; text-decoration-color: #0087ff\">DistilBertTokenizer</span>)                   │                       Vocab size: <span style=\"color: #00af00; text-decoration-color: #00af00\">30,522</span> │\n",
       "└───────────────────────────────────────────────────────────────┴──────────────────────────────────────────┘\n",
       "</pre>\n"
      ],
      "text/plain": [
       "┏━━━━━━━━━━━━━━━━━━━━━━━━━━━━━━━━━━━━━━━━━━━━━━━━━━━━━━━━━━━━━━━┳━━━━━━━━━━━━━━━━━━━━━━━━━━━━━━━━━━━━━━━━━━┓\n",
       "┃\u001b[1m \u001b[0m\u001b[1mLayer (type)                                                 \u001b[0m\u001b[1m \u001b[0m┃\u001b[1m \u001b[0m\u001b[1m                                  Config\u001b[0m\u001b[1m \u001b[0m┃\n",
       "┡━━━━━━━━━━━━━━━━━━━━━━━━━━━━━━━━━━━━━━━━━━━━━━━━━━━━━━━━━━━━━━━╇━━━━━━━━━━━━━━━━━━━━━━━━━━━━━━━━━━━━━━━━━━┩\n",
       "│ distil_bert_tokenizer (\u001b[38;5;33mDistilBertTokenizer\u001b[0m)                   │                       Vocab size: \u001b[38;5;34m30,522\u001b[0m │\n",
       "└───────────────────────────────────────────────────────────────┴──────────────────────────────────────────┘\n"
      ]
     },
     "metadata": {},
     "output_type": "display_data"
    },
    {
     "data": {
      "text/html": [
       "<pre style=\"white-space:pre;overflow-x:auto;line-height:normal;font-family:Menlo,'DejaVu Sans Mono',consolas,'Courier New',monospace\"><span style=\"font-weight: bold\">Model: \"distil_bert_text_classifier\"</span>\n",
       "</pre>\n"
      ],
      "text/plain": [
       "\u001b[1mModel: \"distil_bert_text_classifier\"\u001b[0m\n"
      ]
     },
     "metadata": {},
     "output_type": "display_data"
    },
    {
     "data": {
      "text/html": [
       "<pre style=\"white-space:pre;overflow-x:auto;line-height:normal;font-family:Menlo,'DejaVu Sans Mono',consolas,'Courier New',monospace\">┏━━━━━━━━━━━━━━━━━━━━━━━━━━━━━━━┳━━━━━━━━━━━━━━━━━━━━━━━━━━━┳━━━━━━━━━━━━━━━━━┳━━━━━━━━━━━━━━━━━━━━━━━━━━━━┓\n",
       "┃<span style=\"font-weight: bold\"> Layer (type)                  </span>┃<span style=\"font-weight: bold\"> Output Shape              </span>┃<span style=\"font-weight: bold\">         Param # </span>┃<span style=\"font-weight: bold\"> Connected to               </span>┃\n",
       "┡━━━━━━━━━━━━━━━━━━━━━━━━━━━━━━━╇━━━━━━━━━━━━━━━━━━━━━━━━━━━╇━━━━━━━━━━━━━━━━━╇━━━━━━━━━━━━━━━━━━━━━━━━━━━━┩\n",
       "│ padding_mask (<span style=\"color: #0087ff; text-decoration-color: #0087ff\">InputLayer</span>)     │ (<span style=\"color: #00d7ff; text-decoration-color: #00d7ff\">None</span>, <span style=\"color: #00d7ff; text-decoration-color: #00d7ff\">None</span>)              │               <span style=\"color: #00af00; text-decoration-color: #00af00\">0</span> │ -                          │\n",
       "├───────────────────────────────┼───────────────────────────┼─────────────────┼────────────────────────────┤\n",
       "│ token_ids (<span style=\"color: #0087ff; text-decoration-color: #0087ff\">InputLayer</span>)        │ (<span style=\"color: #00d7ff; text-decoration-color: #00d7ff\">None</span>, <span style=\"color: #00d7ff; text-decoration-color: #00d7ff\">None</span>)              │               <span style=\"color: #00af00; text-decoration-color: #00af00\">0</span> │ -                          │\n",
       "├───────────────────────────────┼───────────────────────────┼─────────────────┼────────────────────────────┤\n",
       "│ distil_bert_backbone          │ (<span style=\"color: #00d7ff; text-decoration-color: #00d7ff\">None</span>, <span style=\"color: #00d7ff; text-decoration-color: #00d7ff\">None</span>, <span style=\"color: #00af00; text-decoration-color: #00af00\">768</span>)         │      <span style=\"color: #00af00; text-decoration-color: #00af00\">66,362,880</span> │ padding_mask[<span style=\"color: #00af00; text-decoration-color: #00af00\">0</span>][<span style=\"color: #00af00; text-decoration-color: #00af00\">0</span>],        │\n",
       "│ (<span style=\"color: #0087ff; text-decoration-color: #0087ff\">DistilBertBackbone</span>)          │                           │                 │ token_ids[<span style=\"color: #00af00; text-decoration-color: #00af00\">0</span>][<span style=\"color: #00af00; text-decoration-color: #00af00\">0</span>]            │\n",
       "├───────────────────────────────┼───────────────────────────┼─────────────────┼────────────────────────────┤\n",
       "│ get_item (<span style=\"color: #0087ff; text-decoration-color: #0087ff\">GetItem</span>)            │ (<span style=\"color: #00d7ff; text-decoration-color: #00d7ff\">None</span>, <span style=\"color: #00af00; text-decoration-color: #00af00\">768</span>)               │               <span style=\"color: #00af00; text-decoration-color: #00af00\">0</span> │ distil_bert_backbone[<span style=\"color: #00af00; text-decoration-color: #00af00\">0</span>][<span style=\"color: #00af00; text-decoration-color: #00af00\">0</span>] │\n",
       "├───────────────────────────────┼───────────────────────────┼─────────────────┼────────────────────────────┤\n",
       "│ pooled_dense (<span style=\"color: #0087ff; text-decoration-color: #0087ff\">Dense</span>)          │ (<span style=\"color: #00d7ff; text-decoration-color: #00d7ff\">None</span>, <span style=\"color: #00af00; text-decoration-color: #00af00\">768</span>)               │         <span style=\"color: #00af00; text-decoration-color: #00af00\">590,592</span> │ get_item[<span style=\"color: #00af00; text-decoration-color: #00af00\">0</span>][<span style=\"color: #00af00; text-decoration-color: #00af00\">0</span>]             │\n",
       "├───────────────────────────────┼───────────────────────────┼─────────────────┼────────────────────────────┤\n",
       "│ output_dropout (<span style=\"color: #0087ff; text-decoration-color: #0087ff\">Dropout</span>)      │ (<span style=\"color: #00d7ff; text-decoration-color: #00d7ff\">None</span>, <span style=\"color: #00af00; text-decoration-color: #00af00\">768</span>)               │               <span style=\"color: #00af00; text-decoration-color: #00af00\">0</span> │ pooled_dense[<span style=\"color: #00af00; text-decoration-color: #00af00\">0</span>][<span style=\"color: #00af00; text-decoration-color: #00af00\">0</span>]         │\n",
       "├───────────────────────────────┼───────────────────────────┼─────────────────┼────────────────────────────┤\n",
       "│ logits (<span style=\"color: #0087ff; text-decoration-color: #0087ff\">Dense</span>)                │ (<span style=\"color: #00d7ff; text-decoration-color: #00d7ff\">None</span>, <span style=\"color: #00af00; text-decoration-color: #00af00\">2</span>)                 │           <span style=\"color: #00af00; text-decoration-color: #00af00\">1,538</span> │ output_dropout[<span style=\"color: #00af00; text-decoration-color: #00af00\">0</span>][<span style=\"color: #00af00; text-decoration-color: #00af00\">0</span>]       │\n",
       "└───────────────────────────────┴───────────────────────────┴─────────────────┴────────────────────────────┘\n",
       "</pre>\n"
      ],
      "text/plain": [
       "┏━━━━━━━━━━━━━━━━━━━━━━━━━━━━━━━┳━━━━━━━━━━━━━━━━━━━━━━━━━━━┳━━━━━━━━━━━━━━━━━┳━━━━━━━━━━━━━━━━━━━━━━━━━━━━┓\n",
       "┃\u001b[1m \u001b[0m\u001b[1mLayer (type)                 \u001b[0m\u001b[1m \u001b[0m┃\u001b[1m \u001b[0m\u001b[1mOutput Shape             \u001b[0m\u001b[1m \u001b[0m┃\u001b[1m \u001b[0m\u001b[1m        Param #\u001b[0m\u001b[1m \u001b[0m┃\u001b[1m \u001b[0m\u001b[1mConnected to              \u001b[0m\u001b[1m \u001b[0m┃\n",
       "┡━━━━━━━━━━━━━━━━━━━━━━━━━━━━━━━╇━━━━━━━━━━━━━━━━━━━━━━━━━━━╇━━━━━━━━━━━━━━━━━╇━━━━━━━━━━━━━━━━━━━━━━━━━━━━┩\n",
       "│ padding_mask (\u001b[38;5;33mInputLayer\u001b[0m)     │ (\u001b[38;5;45mNone\u001b[0m, \u001b[38;5;45mNone\u001b[0m)              │               \u001b[38;5;34m0\u001b[0m │ -                          │\n",
       "├───────────────────────────────┼───────────────────────────┼─────────────────┼────────────────────────────┤\n",
       "│ token_ids (\u001b[38;5;33mInputLayer\u001b[0m)        │ (\u001b[38;5;45mNone\u001b[0m, \u001b[38;5;45mNone\u001b[0m)              │               \u001b[38;5;34m0\u001b[0m │ -                          │\n",
       "├───────────────────────────────┼───────────────────────────┼─────────────────┼────────────────────────────┤\n",
       "│ distil_bert_backbone          │ (\u001b[38;5;45mNone\u001b[0m, \u001b[38;5;45mNone\u001b[0m, \u001b[38;5;34m768\u001b[0m)         │      \u001b[38;5;34m66,362,880\u001b[0m │ padding_mask[\u001b[38;5;34m0\u001b[0m][\u001b[38;5;34m0\u001b[0m],        │\n",
       "│ (\u001b[38;5;33mDistilBertBackbone\u001b[0m)          │                           │                 │ token_ids[\u001b[38;5;34m0\u001b[0m][\u001b[38;5;34m0\u001b[0m]            │\n",
       "├───────────────────────────────┼───────────────────────────┼─────────────────┼────────────────────────────┤\n",
       "│ get_item (\u001b[38;5;33mGetItem\u001b[0m)            │ (\u001b[38;5;45mNone\u001b[0m, \u001b[38;5;34m768\u001b[0m)               │               \u001b[38;5;34m0\u001b[0m │ distil_bert_backbone[\u001b[38;5;34m0\u001b[0m][\u001b[38;5;34m0\u001b[0m] │\n",
       "├───────────────────────────────┼───────────────────────────┼─────────────────┼────────────────────────────┤\n",
       "│ pooled_dense (\u001b[38;5;33mDense\u001b[0m)          │ (\u001b[38;5;45mNone\u001b[0m, \u001b[38;5;34m768\u001b[0m)               │         \u001b[38;5;34m590,592\u001b[0m │ get_item[\u001b[38;5;34m0\u001b[0m][\u001b[38;5;34m0\u001b[0m]             │\n",
       "├───────────────────────────────┼───────────────────────────┼─────────────────┼────────────────────────────┤\n",
       "│ output_dropout (\u001b[38;5;33mDropout\u001b[0m)      │ (\u001b[38;5;45mNone\u001b[0m, \u001b[38;5;34m768\u001b[0m)               │               \u001b[38;5;34m0\u001b[0m │ pooled_dense[\u001b[38;5;34m0\u001b[0m][\u001b[38;5;34m0\u001b[0m]         │\n",
       "├───────────────────────────────┼───────────────────────────┼─────────────────┼────────────────────────────┤\n",
       "│ logits (\u001b[38;5;33mDense\u001b[0m)                │ (\u001b[38;5;45mNone\u001b[0m, \u001b[38;5;34m2\u001b[0m)                 │           \u001b[38;5;34m1,538\u001b[0m │ output_dropout[\u001b[38;5;34m0\u001b[0m][\u001b[38;5;34m0\u001b[0m]       │\n",
       "└───────────────────────────────┴───────────────────────────┴─────────────────┴────────────────────────────┘\n"
      ]
     },
     "metadata": {},
     "output_type": "display_data"
    },
    {
     "data": {
      "text/html": [
       "<pre style=\"white-space:pre;overflow-x:auto;line-height:normal;font-family:Menlo,'DejaVu Sans Mono',consolas,'Courier New',monospace\"><span style=\"font-weight: bold\"> Total params: </span><span style=\"color: #00af00; text-decoration-color: #00af00\">66,955,010</span> (255.41 MB)\n",
       "</pre>\n"
      ],
      "text/plain": [
       "\u001b[1m Total params: \u001b[0m\u001b[38;5;34m66,955,010\u001b[0m (255.41 MB)\n"
      ]
     },
     "metadata": {},
     "output_type": "display_data"
    },
    {
     "data": {
      "text/html": [
       "<pre style=\"white-space:pre;overflow-x:auto;line-height:normal;font-family:Menlo,'DejaVu Sans Mono',consolas,'Courier New',monospace\"><span style=\"font-weight: bold\"> Trainable params: </span><span style=\"color: #00af00; text-decoration-color: #00af00\">66,955,010</span> (255.41 MB)\n",
       "</pre>\n"
      ],
      "text/plain": [
       "\u001b[1m Trainable params: \u001b[0m\u001b[38;5;34m66,955,010\u001b[0m (255.41 MB)\n"
      ]
     },
     "metadata": {},
     "output_type": "display_data"
    },
    {
     "data": {
      "text/html": [
       "<pre style=\"white-space:pre;overflow-x:auto;line-height:normal;font-family:Menlo,'DejaVu Sans Mono',consolas,'Courier New',monospace\"><span style=\"font-weight: bold\"> Non-trainable params: </span><span style=\"color: #00af00; text-decoration-color: #00af00\">0</span> (0.00 B)\n",
       "</pre>\n"
      ],
      "text/plain": [
       "\u001b[1m Non-trainable params: \u001b[0m\u001b[38;5;34m0\u001b[0m (0.00 B)\n"
      ]
     },
     "metadata": {},
     "output_type": "display_data"
    }
   ],
   "source": [
    "# Load a DistilBERT model.\n",
    "preset= \"distil_bert_base_en_uncased\"\n",
    "\n",
    "# Use a shorter sequence length.\n",
    "preprocessor = keras_nlp.models.DistilBertPreprocessor.from_preset(preset,\n",
    "                                                                   sequence_length=160, # the maximum no. of tokens\n",
    "                                                                   name=\"preprocessor_4_tweets\"\n",
    "                                                                  )\n",
    "\n",
    "# Pretrained classifier.\n",
    "classifier = keras_nlp.models.DistilBertClassifier.from_preset(preset,\n",
    "                                                               preprocessor = preprocessor, \n",
    "                                                               num_classes=2) # no. of classes \n",
    "\n",
    "classifier.summary()"
   ]
  },
  {
   "cell_type": "code",
   "execution_count": 11,
   "id": "d1c5735a",
   "metadata": {
    "execution": {
     "iopub.execute_input": "2024-11-07T00:48:25.447432Z",
     "iopub.status.busy": "2024-11-07T00:48:25.447144Z",
     "iopub.status.idle": "2024-11-07T00:54:02.547499Z",
     "shell.execute_reply": "2024-11-07T00:54:02.546585Z"
    },
    "papermill": {
     "duration": 337.111269,
     "end_time": "2024-11-07T00:54:02.550078",
     "exception": false,
     "start_time": "2024-11-07T00:48:25.438809",
     "status": "completed"
    },
    "tags": []
   },
   "outputs": [
    {
     "name": "stdout",
     "output_type": "stream",
     "text": [
      "Epoch 1/10\n"
     ]
    },
    {
     "name": "stderr",
     "output_type": "stream",
     "text": [
      "WARNING: All log messages before absl::InitializeLog() is called are written to STDERR\n",
      "I0000 00:00:1730940524.520940      67 service.cc:145] XLA service 0x7f70a40049b0 initialized for platform CUDA (this does not guarantee that XLA will be used). Devices:\n",
      "I0000 00:00:1730940524.520988      67 service.cc:153]   StreamExecutor device (0): Tesla P100-PCIE-16GB, Compute Capability 6.0\n",
      "WARNING: All log messages before absl::InitializeLog() is called are written to STDERR\n",
      "I0000 00:00:1730940567.153080      67 asm_compiler.cc:369] ptxas warning : Registers are spilled to local memory in function 'loop_add_subtract_fusion_35', 120 bytes spill stores, 120 bytes spill loads\n",
      "ptxas warning : Registers are spilled to local memory in function 'copy_fusion_2', 80 bytes spill stores, 80 bytes spill loads\n",
      "ptxas warning : Registers are spilled to local memory in function 'loop_xor_fusion_122', 8 bytes spill stores, 8 bytes spill loads\n",
      "\n",
      "I0000 00:00:1730940567.207616      67 device_compiler.h:188] Compiled cluster using XLA!  This line is logged at most once for the lifetime of the process.\n"
     ]
    },
    {
     "name": "stdout",
     "output_type": "stream",
     "text": [
      "\u001b[1m191/191\u001b[0m \u001b[32m━━━━━━━━━━━━━━━━━━━━\u001b[0m\u001b[37m\u001b[0m \u001b[1m0s\u001b[0m 425ms/step - accuracy: 0.7450 - loss: 0.5549"
     ]
    },
    {
     "name": "stderr",
     "output_type": "stream",
     "text": [
      "I0000 00:00:1730940648.022215      65 asm_compiler.cc:369] ptxas warning : Registers are spilled to local memory in function 'loop_add_subtract_fusion_48', 8 bytes spill stores, 8 bytes spill loads\n",
      "ptxas warning : Registers are spilled to local memory in function 'loop_add_subtract_fusion_31', 120 bytes spill stores, 120 bytes spill loads\n",
      "\n"
     ]
    },
    {
     "name": "stdout",
     "output_type": "stream",
     "text": [
      "\u001b[1m191/191\u001b[0m \u001b[32m━━━━━━━━━━━━━━━━━━━━\u001b[0m\u001b[37m\u001b[0m \u001b[1m150s\u001b[0m 467ms/step - accuracy: 0.7452 - loss: 0.5545 - val_accuracy: 0.8464 - val_loss: 0.3933 - learning_rate: 1.0000e-05\n",
      "Epoch 2/10\n",
      "\u001b[1m191/191\u001b[0m \u001b[32m━━━━━━━━━━━━━━━━━━━━\u001b[0m\u001b[37m\u001b[0m \u001b[1m47s\u001b[0m 244ms/step - accuracy: 0.8436 - loss: 0.3733 - val_accuracy: 0.8464 - val_loss: 0.3875 - learning_rate: 1.0000e-05\n",
      "Epoch 3/10\n",
      "\u001b[1m191/191\u001b[0m \u001b[32m━━━━━━━━━━━━━━━━━━━━\u001b[0m\u001b[37m\u001b[0m \u001b[1m46s\u001b[0m 242ms/step - accuracy: 0.8781 - loss: 0.3204 - val_accuracy: 0.8365 - val_loss: 0.3971 - learning_rate: 1.0000e-05\n",
      "Epoch 4/10\n",
      "\u001b[1m191/191\u001b[0m \u001b[32m━━━━━━━━━━━━━━━━━━━━\u001b[0m\u001b[37m\u001b[0m \u001b[1m46s\u001b[0m 242ms/step - accuracy: 0.8951 - loss: 0.2723 - val_accuracy: 0.8293 - val_loss: 0.4366 - learning_rate: 1.0000e-05\n",
      "Epoch 5/10\n",
      "\u001b[1m191/191\u001b[0m \u001b[32m━━━━━━━━━━━━━━━━━━━━\u001b[0m\u001b[37m\u001b[0m \u001b[1m46s\u001b[0m 242ms/step - accuracy: 0.9200 - loss: 0.2323 - val_accuracy: 0.8267 - val_loss: 0.4819 - learning_rate: 9.5000e-06\n"
     ]
    }
   ],
   "source": [
    "# Compile\n",
    "from tensorflow.keras.optimizers import Adam\n",
    "from tensorflow.keras.callbacks import EarlyStopping, LearningRateScheduler\n",
    "\n",
    "\n",
    "\n",
    "# Early Stopping and Learning Rate Scheduler\n",
    "early_stopping = EarlyStopping(monitor='val_loss', patience=3, restore_best_weights=True)\n",
    "lr_scheduler = LearningRateScheduler(lambda epoch, lr: lr * 0.95 if epoch > 3 else lr)\n",
    "\n",
    "\n",
    "optimizer=Adam(learning_rate=1e-5, weight_decay=1e-5)\n",
    "# Compile\n",
    "classifier.compile(\n",
    "    loss=keras.losses.SparseCategoricalCrossentropy(from_logits=True),\n",
    "    optimizer=optimizer,\n",
    "    metrics=[\"accuracy\"]\n",
    ")\n",
    "\n",
    "# Fit with data augmentation, early stopping, and learning rate scheduler\n",
    "history = classifier.fit(\n",
    "    x=X_train,\n",
    "    y=y_train,\n",
    "    batch_size=32,  # Adjust batch size\n",
    "    epochs=10,\n",
    "    validation_data=(X_val, y_val),\n",
    "    callbacks=[early_stopping, lr_scheduler]\n",
    ")\n"
   ]
  },
  {
   "cell_type": "code",
   "execution_count": 12,
   "id": "ab87db6f",
   "metadata": {
    "execution": {
     "iopub.execute_input": "2024-11-07T00:54:02.723517Z",
     "iopub.status.busy": "2024-11-07T00:54:02.723130Z",
     "iopub.status.idle": "2024-11-07T00:54:02.730161Z",
     "shell.execute_reply": "2024-11-07T00:54:02.729184Z"
    },
    "papermill": {
     "duration": 0.096398,
     "end_time": "2024-11-07T00:54:02.732179",
     "exception": false,
     "start_time": "2024-11-07T00:54:02.635781",
     "status": "completed"
    },
    "tags": []
   },
   "outputs": [],
   "source": [
    "def displayConfusionMatrix(y_true, y_pred, dataset):\n",
    "    disp = ConfusionMatrixDisplay.from_predictions(\n",
    "        y_true,\n",
    "        np.argmax(y_pred, axis=1),\n",
    "        display_labels=[\"Not Disaster\",\"Disaster\"],\n",
    "        cmap=plt.cm.Blues\n",
    "    )\n",
    "\n",
    "    tn, fp, fn, tp = confusion_matrix(y_true, np.argmax(y_pred, axis=1)).ravel()\n",
    "    f1_score = tp / (tp+((fn+fp)/2))\n",
    "\n",
    "    disp.ax_.set_title(\"Confusion Matrix on \" + dataset + \" Dataset -- F1 Score: \" + str(f1_score.round(2)))"
   ]
  },
  {
   "cell_type": "code",
   "execution_count": 13,
   "id": "88356e16",
   "metadata": {
    "execution": {
     "iopub.execute_input": "2024-11-07T00:54:02.908830Z",
     "iopub.status.busy": "2024-11-07T00:54:02.908395Z",
     "iopub.status.idle": "2024-11-07T00:54:20.688981Z",
     "shell.execute_reply": "2024-11-07T00:54:20.687911Z"
    },
    "papermill": {
     "duration": 17.869809,
     "end_time": "2024-11-07T00:54:20.691442",
     "exception": false,
     "start_time": "2024-11-07T00:54:02.821633",
     "status": "completed"
    },
    "tags": []
   },
   "outputs": [
    {
     "name": "stdout",
     "output_type": "stream",
     "text": [
      "\u001b[1m191/191\u001b[0m \u001b[32m━━━━━━━━━━━━━━━━━━━━\u001b[0m\u001b[37m\u001b[0m \u001b[1m17s\u001b[0m 76ms/step\n"
     ]
    },
    {
     "data": {
      "image/png": "[encoded data removed]",
      "text/plain": [
       "<Figure size 640x480 with 2 Axes>"
      ]
     },
     "metadata": {},
     "output_type": "display_data"
    }
   ],
   "source": [
    "y_pred_train = classifier.predict(X_train)\n",
    "\n",
    "displayConfusionMatrix(y_train, y_pred_train, \"Training\")"
   ]
  },
  {
   "cell_type": "code",
   "execution_count": 14,
   "id": "936f44bb",
   "metadata": {
    "execution": {
     "iopub.execute_input": "2024-11-07T00:54:20.900648Z",
     "iopub.status.busy": "2024-11-07T00:54:20.899983Z",
     "iopub.status.idle": "2024-11-07T00:54:26.214482Z",
     "shell.execute_reply": "2024-11-07T00:54:26.213565Z"
    },
    "papermill": {
     "duration": 5.421586,
     "end_time": "2024-11-07T00:54:26.216528",
     "exception": false,
     "start_time": "2024-11-07T00:54:20.794942",
     "status": "completed"
    },
    "tags": []
   },
   "outputs": [
    {
     "name": "stdout",
     "output_type": "stream",
     "text": [
      "\u001b[1m48/48\u001b[0m \u001b[32m━━━━━━━━━━━━━━━━━━━━\u001b[0m\u001b[37m\u001b[0m \u001b[1m4s\u001b[0m 84ms/step\n"
     ]
    },
    {
     "data": {
      "image/png": "[encoded data removed]",
      "text/plain": [
       "<Figure size 640x480 with 2 Axes>"
      ]
     },
     "metadata": {},
     "output_type": "display_data"
    }
   ],
   "source": [
    "y_pred_val = classifier.predict(X_val)\n",
    "\n",
    "displayConfusionMatrix(y_val, y_pred_val, \"Validation\")"
   ]
  },
  {
   "cell_type": "code",
   "execution_count": 15,
   "id": "96ede52b",
   "metadata": {
    "execution": {
     "iopub.execute_input": "2024-11-07T00:54:26.427307Z",
     "iopub.status.busy": "2024-11-07T00:54:26.426563Z",
     "iopub.status.idle": "2024-11-07T00:54:26.528030Z",
     "shell.execute_reply": "2024-11-07T00:54:26.527018Z"
    },
    "papermill": {
     "duration": 0.208837,
     "end_time": "2024-11-07T00:54:26.530207",
     "exception": false,
     "start_time": "2024-11-07T00:54:26.321370",
     "status": "completed"
    },
    "tags": []
   },
   "outputs": [
    {
     "data": {
      "text/html": [
       "<div>\n",
       "<style scoped>\n",
       "    .dataframe tbody tr th:only-of-type {\n",
       "        vertical-align: middle;\n",
       "    }\n",
       "\n",
       "    .dataframe tbody tr th {\n",
       "        vertical-align: top;\n",
       "    }\n",
       "\n",
       "    .dataframe thead th {\n",
       "        text-align: right;\n",
       "    }\n",
       "</style>\n",
       "<table border=\"1\" class=\"dataframe\">\n",
       "  <thead>\n",
       "    <tr style=\"text-align: right;\">\n",
       "      <th></th>\n",
       "      <th>id</th>\n",
       "      <th>target</th>\n",
       "    </tr>\n",
       "  </thead>\n",
       "  <tbody>\n",
       "    <tr>\n",
       "      <th>0</th>\n",
       "      <td>0</td>\n",
       "      <td>0</td>\n",
       "    </tr>\n",
       "    <tr>\n",
       "      <th>1</th>\n",
       "      <td>2</td>\n",
       "      <td>0</td>\n",
       "    </tr>\n",
       "    <tr>\n",
       "      <th>2</th>\n",
       "      <td>3</td>\n",
       "      <td>0</td>\n",
       "    </tr>\n",
       "    <tr>\n",
       "      <th>3</th>\n",
       "      <td>9</td>\n",
       "      <td>0</td>\n",
       "    </tr>\n",
       "    <tr>\n",
       "      <th>4</th>\n",
       "      <td>11</td>\n",
       "      <td>0</td>\n",
       "    </tr>\n",
       "  </tbody>\n",
       "</table>\n",
       "</div>"
      ],
      "text/plain": [
       "   id  target\n",
       "0   0       0\n",
       "1   2       0\n",
       "2   3       0\n",
       "3   9       0\n",
       "4  11       0"
      ]
     },
     "execution_count": 15,
     "metadata": {},
     "output_type": "execute_result"
    }
   ],
   "source": [
    "sample_submission = pd.read_csv(\"/kaggle/input/nlp-getting-started/sample_submission.csv\")\n",
    "sample_submission.head()"
   ]
  },
  {
   "cell_type": "code",
   "execution_count": 16,
   "id": "3ca0c80b",
   "metadata": {
    "execution": {
     "iopub.execute_input": "2024-11-07T00:54:26.784343Z",
     "iopub.status.busy": "2024-11-07T00:54:26.783604Z",
     "iopub.status.idle": "2024-11-07T00:54:35.758097Z",
     "shell.execute_reply": "2024-11-07T00:54:35.756911Z"
    },
    "papermill": {
     "duration": 9.083324,
     "end_time": "2024-11-07T00:54:35.760657",
     "exception": false,
     "start_time": "2024-11-07T00:54:26.677333",
     "status": "completed"
    },
    "tags": []
   },
   "outputs": [
    {
     "name": "stdout",
     "output_type": "stream",
     "text": [
      "\u001b[1m102/102\u001b[0m \u001b[32m━━━━━━━━━━━━━━━━━━━━\u001b[0m\u001b[37m\u001b[0m \u001b[1m8s\u001b[0m 77ms/step\n"
     ]
    }
   ],
   "source": [
    "sample_submission[\"target\"] = np.argmax(classifier.predict(X_test), axis=1)"
   ]
  },
  {
   "cell_type": "code",
   "execution_count": 17,
   "id": "f77a0e6b",
   "metadata": {
    "execution": {
     "iopub.execute_input": "2024-11-07T00:54:35.988388Z",
     "iopub.status.busy": "2024-11-07T00:54:35.987668Z",
     "iopub.status.idle": "2024-11-07T00:54:35.998945Z",
     "shell.execute_reply": "2024-11-07T00:54:35.998120Z"
    },
    "papermill": {
     "duration": 0.127048,
     "end_time": "2024-11-07T00:54:36.001125",
     "exception": false,
     "start_time": "2024-11-07T00:54:35.874077",
     "status": "completed"
    },
    "tags": []
   },
   "outputs": [],
   "source": [
    "sample_submission.to_csv(\"submission.csv\", index=False)"
   ]
  }
 ],
 "metadata": {
  "kaggle": {
   "accelerator": "gpu",
   "dataSources": [
    {
     "databundleVersionId": 869809,
     "sourceId": 17777,
     "sourceType": "competition"
    },
    {
     "databundleVersionId": 7429247,
     "modelInstanceId": 4689,
     "sourceId": 6068,
     "sourceType": "modelInstanceVersion"
    }
   ],
   "dockerImageVersionId": 30787,
   "isGpuEnabled": true,
   "isInternetEnabled": true,
   "language": "python",
   "sourceType": "notebook"
  },
  "kernelspec": {
   "display_name": "Python 3",
   "language": "python",
   "name": "python3"
  },
  "language_info": {
   "codemirror_mode": {
    "name": "ipython",
    "version": 3
   },
   "file_extension": ".py",
   "mimetype": "text/x-python",
   "name": "python",
   "nbconvert_exporter": "python",
   "pygments_lexer": "ipython3",
   "version": "3.10.14"
  },
  "papermill": {
   "default_parameters": {},
   "duration": 397.922298,
   "end_time": "2024-11-07T00:54:39.840389",
   "environment_variables": {},
   "exception": null,
   "input_path": "__notebook__.ipynb",
   "output_path": "__notebook__.ipynb",
   "parameters": {},
   "start_time": "2024-11-07T00:48:01.918091",
   "version": "2.6.0"
  }
 },
 "nbformat": 4,
 "nbformat_minor": 5
}
